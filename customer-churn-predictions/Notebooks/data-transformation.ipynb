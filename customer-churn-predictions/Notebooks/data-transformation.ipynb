{
 "cells": [
  {
   "cell_type": "code",
   "execution_count": 7,
   "id": "41d89919-cace-491f-9706-98d56339e84f",
   "metadata": {},
   "outputs": [],
   "source": [
    "# Import libraries\n",
    "import numpy as np\n",
    "import pandas as pd\n",
    "\n",
    "import matplotlib.pyplot as plt\n",
    "import seaborn as sns\n",
    "%matplotlib inline\n",
    "\n",
    "from sklearn.preprocessing import OneHotEncoder, StandardScaler\n",
    "from sklearn.impute import KNNImputer\n",
    "from sklearn.pipeline import Pipeline\n",
    "from sklearn.compose import ColumnTransformer"
   ]
  },
  {
   "cell_type": "code",
   "execution_count": 8,
   "id": "c99ef98b-005e-4265-b499-357d83f50a32",
   "metadata": {},
   "outputs": [],
   "source": [
    "# Read data\n",
    "def read_data(filename):\n",
    "    base_path = \"../Data/raw/\"\n",
    "    return pd.read_csv(base_path + filename)"
   ]
  },
  {
   "cell_type": "code",
   "execution_count": 9,
   "id": "a530512b-40f4-4bfd-a9f9-014f7bd4a24c",
   "metadata": {},
   "outputs": [],
   "source": [
    "df_train = read_data('train.csv')\n",
    "df_val = read_data('val.csv')\n",
    "df_test = read_data('test.csv')"
   ]
  },
  {
   "cell_type": "code",
   "execution_count": 10,
   "id": "9c8b8f7a-05df-4375-b38d-ce9e9399d6ef",
   "metadata": {},
   "outputs": [
    {
     "data": {
      "text/html": [
       "<div>\n",
       "<style scoped>\n",
       "    .dataframe tbody tr th:only-of-type {\n",
       "        vertical-align: middle;\n",
       "    }\n",
       "\n",
       "    .dataframe tbody tr th {\n",
       "        vertical-align: top;\n",
       "    }\n",
       "\n",
       "    .dataframe thead th {\n",
       "        text-align: right;\n",
       "    }\n",
       "</style>\n",
       "<table border=\"1\" class=\"dataframe\">\n",
       "  <thead>\n",
       "    <tr style=\"text-align: right;\">\n",
       "      <th></th>\n",
       "      <th>customer_id</th>\n",
       "      <th>surname</th>\n",
       "      <th>credit_score</th>\n",
       "      <th>geography</th>\n",
       "      <th>gender</th>\n",
       "      <th>age</th>\n",
       "      <th>tenure</th>\n",
       "      <th>balance</th>\n",
       "      <th>num_of_products</th>\n",
       "      <th>has_cr_card</th>\n",
       "      <th>is_active_member</th>\n",
       "      <th>salary</th>\n",
       "      <th>churn</th>\n",
       "      <th>age_group</th>\n",
       "    </tr>\n",
       "  </thead>\n",
       "  <tbody>\n",
       "    <tr>\n",
       "      <th>0</th>\n",
       "      <td>15692132</td>\n",
       "      <td>wilkinson</td>\n",
       "      <td>717</td>\n",
       "      <td>spain</td>\n",
       "      <td>female</td>\n",
       "      <td>22</td>\n",
       "      <td>6</td>\n",
       "      <td>101060.25</td>\n",
       "      <td>1</td>\n",
       "      <td>0</td>\n",
       "      <td>1</td>\n",
       "      <td>84699.56</td>\n",
       "      <td>0</td>\n",
       "      <td>18-32</td>\n",
       "    </tr>\n",
       "    <tr>\n",
       "      <th>1</th>\n",
       "      <td>15684173</td>\n",
       "      <td>chang</td>\n",
       "      <td>687</td>\n",
       "      <td>spain</td>\n",
       "      <td>female</td>\n",
       "      <td>44</td>\n",
       "      <td>7</td>\n",
       "      <td>0.00</td>\n",
       "      <td>3</td>\n",
       "      <td>1</td>\n",
       "      <td>0</td>\n",
       "      <td>155853.52</td>\n",
       "      <td>1</td>\n",
       "      <td>33-47</td>\n",
       "    </tr>\n",
       "    <tr>\n",
       "      <th>2</th>\n",
       "      <td>15652999</td>\n",
       "      <td>milne</td>\n",
       "      <td>742</td>\n",
       "      <td>germany</td>\n",
       "      <td>male</td>\n",
       "      <td>33</td>\n",
       "      <td>1</td>\n",
       "      <td>137937.95</td>\n",
       "      <td>1</td>\n",
       "      <td>1</td>\n",
       "      <td>1</td>\n",
       "      <td>51387.10</td>\n",
       "      <td>0</td>\n",
       "      <td>33-47</td>\n",
       "    </tr>\n",
       "    <tr>\n",
       "      <th>3</th>\n",
       "      <td>15583090</td>\n",
       "      <td>komar</td>\n",
       "      <td>581</td>\n",
       "      <td>spain</td>\n",
       "      <td>female</td>\n",
       "      <td>29</td>\n",
       "      <td>8</td>\n",
       "      <td>0.00</td>\n",
       "      <td>2</td>\n",
       "      <td>1</td>\n",
       "      <td>0</td>\n",
       "      <td>46735.19</td>\n",
       "      <td>0</td>\n",
       "      <td>18-32</td>\n",
       "    </tr>\n",
       "    <tr>\n",
       "      <th>4</th>\n",
       "      <td>15678206</td>\n",
       "      <td>yeh</td>\n",
       "      <td>464</td>\n",
       "      <td>france</td>\n",
       "      <td>male</td>\n",
       "      <td>46</td>\n",
       "      <td>6</td>\n",
       "      <td>161798.53</td>\n",
       "      <td>1</td>\n",
       "      <td>1</td>\n",
       "      <td>0</td>\n",
       "      <td>182944.47</td>\n",
       "      <td>0</td>\n",
       "      <td>33-47</td>\n",
       "    </tr>\n",
       "  </tbody>\n",
       "</table>\n",
       "</div>"
      ],
      "text/plain": [
       "   customer_id    surname  credit_score geography  gender  age  tenure  \\\n",
       "0     15692132  wilkinson           717     spain  female   22       6   \n",
       "1     15684173      chang           687     spain  female   44       7   \n",
       "2     15652999      milne           742   germany    male   33       1   \n",
       "3     15583090      komar           581     spain  female   29       8   \n",
       "4     15678206        yeh           464    france    male   46       6   \n",
       "\n",
       "     balance  num_of_products  has_cr_card  is_active_member     salary  \\\n",
       "0  101060.25                1            0                 1   84699.56   \n",
       "1       0.00                3            1                 0  155853.52   \n",
       "2  137937.95                1            1                 1   51387.10   \n",
       "3       0.00                2            1                 0   46735.19   \n",
       "4  161798.53                1            1                 0  182944.47   \n",
       "\n",
       "   churn age_group  \n",
       "0      0     18-32  \n",
       "1      1     33-47  \n",
       "2      0     33-47  \n",
       "3      0     18-32  \n",
       "4      0     33-47  "
      ]
     },
     "execution_count": 10,
     "metadata": {},
     "output_type": "execute_result"
    }
   ],
   "source": [
    "df_train.head()"
   ]
  },
  {
   "cell_type": "markdown",
   "id": "e17a3d1b-d2aa-43fb-8a0e-fc22d2a0dc1c",
   "metadata": {},
   "source": [
    "#### Feature selection"
   ]
  },
  {
   "cell_type": "code",
   "execution_count": 11,
   "id": "a8be511d-3b06-4dbb-8175-438c483f1c2b",
   "metadata": {},
   "outputs": [],
   "source": [
    "# select features\n",
    "features  = ['credit_score', 'tenure', 'balance', 'num_of_products', 'salary', 'geography', 'gender',\n",
    "             'has_cr_card', 'is_active_member','age_group']\n",
    "\n",
    "num_features = ['credit_score', 'tenure', 'balance', 'num_of_products', 'salary']\n",
    "cat_features = ['geography', 'gender','age_group']\n",
    "target = 'churn'"
   ]
  },
  {
   "cell_type": "code",
   "execution_count": 12,
   "id": "19e35da0-8329-49ed-a967-a7d3c7b25212",
   "metadata": {},
   "outputs": [],
   "source": [
    "# Split the data\n",
    "def get_df_xy(data):\n",
    "    return data[features].copy(), data[target].copy()\n",
    "    \n",
    "X_train, y_train = get_df_xy(df_train)\n",
    "X_val, y_val = get_df_xy(df_val)\n",
    "X_test, y_test = get_df_xy(df_val)"
   ]
  },
  {
   "cell_type": "markdown",
   "id": "d07040bf-419f-4caf-849a-aae7f584417e",
   "metadata": {},
   "source": [
    "#### Data Transformation"
   ]
  },
  {
   "cell_type": "code",
   "execution_count": 13,
   "id": "548ddb65-852a-4319-887a-01895f297a9a",
   "metadata": {},
   "outputs": [],
   "source": [
    "# Define data preprocessing steps.\n",
    "preprocessor = ColumnTransformer(\n",
    "    transformers=[('num_scaler', StandardScaler(), num_features),\n",
    "                  ('cat_oh_en',  OneHotEncoder(sparse_output=False), cat_features)\n",
    "                 ],\n",
    "    remainder = 'passthrough'\n",
    ")"
   ]
  },
  {
   "cell_type": "code",
   "execution_count": 14,
   "id": "b53fa7f8-bff7-45b4-908b-018e5eb0e63b",
   "metadata": {},
   "outputs": [],
   "source": [
    "# Preprocess the data\n",
    "preprocessor = preprocessor.fit(X_train)\n",
    "\n",
    "# Transform the data\n",
    "x_train_trans = preprocessor.transform(X_train)"
   ]
  },
  {
   "cell_type": "code",
   "execution_count": 15,
   "id": "7def393e-7693-491d-9824-86544a872157",
   "metadata": {},
   "outputs": [
    {
     "data": {
      "text/plain": [
       "array(['num_scaler__credit_score', 'num_scaler__tenure',\n",
       "       'num_scaler__balance', 'num_scaler__num_of_products',\n",
       "       'num_scaler__salary', 'cat_oh_en__geography_france',\n",
       "       'cat_oh_en__geography_germany', 'cat_oh_en__geography_spain',\n",
       "       'cat_oh_en__gender_female', 'cat_oh_en__gender_male',\n",
       "       'cat_oh_en__age_group_18-32', 'cat_oh_en__age_group_33-47',\n",
       "       'cat_oh_en__age_group_48-62', 'cat_oh_en__age_group_63-77',\n",
       "       'cat_oh_en__age_group_78-92', 'remainder__has_cr_card',\n",
       "       'remainder__is_active_member'], dtype=object)"
      ]
     },
     "execution_count": 15,
     "metadata": {},
     "output_type": "execute_result"
    }
   ],
   "source": [
    "# Get the feature names\n",
    "preprocessor.get_feature_names_out()"
   ]
  },
  {
   "cell_type": "code",
   "execution_count": 16,
   "id": "d1875925-c47c-42af-a364-bbddc650e036",
   "metadata": {},
   "outputs": [],
   "source": [
    "x_train_transform = pd.DataFrame(data=preprocessor.transform(X_train), columns=preprocessor.get_feature_names_out(), index=X_train.index)\n",
    "x_val_transform = pd.DataFrame(data=preprocessor.transform(X_val), columns=preprocessor.get_feature_names_out(), index=X_val.index)\n",
    "x_test_transform = pd.DataFrame(data=preprocessor.transform(X_test), columns=preprocessor.get_feature_names_out(), index=X_test.index)"
   ]
  },
  {
   "cell_type": "code",
   "execution_count": 17,
   "id": "47bf9bcd-26b7-47ed-aa0a-85694baf02f8",
   "metadata": {},
   "outputs": [],
   "source": [
    "# Save the data\n",
    "def save_data(X, y, filename):\n",
    "    # Define the filepath to save data.\n",
    "    base_path = '../Data/process/'\n",
    "    x_filepath = f\"{base_path}X_{filename}.csv\"\n",
    "    y_filepath = f\"{base_path}y_{filename}.csv\"\n",
    "\n",
    "    # Save to csv\n",
    "    X.to_csv(x_filepath, index=False)\n",
    "    y.to_csv(y_filepath, index=False)\n",
    "    \n",
    "save_data(x_train_transform, y_train, 'train')\n",
    "save_data(x_test_transform, y_test, 'test')\n",
    "save_data(x_val_transform, y_val, 'validation')"
   ]
  },
  {
   "cell_type": "code",
   "execution_count": 20,
   "id": "f701c590-541f-45a9-abd8-d0f256fd2cda",
   "metadata": {},
   "outputs": [],
   "source": [
    "# Save the preprocessor transformer\n",
    "import pickle\n",
    "with open('../Model/processor.bin', 'wb') as f:\n",
    "    pickle.dump(preprocessor, f)"
   ]
  },
  {
   "cell_type": "code",
   "execution_count": null,
   "id": "340e4485-8b4f-43a6-8892-40ccd6eef0de",
   "metadata": {},
   "outputs": [],
   "source": []
  }
 ],
 "metadata": {
  "kernelspec": {
   "display_name": "Python 3 (ipykernel)",
   "language": "python",
   "name": "python3"
  },
  "language_info": {
   "codemirror_mode": {
    "name": "ipython",
    "version": 3
   },
   "file_extension": ".py",
   "mimetype": "text/x-python",
   "name": "python",
   "nbconvert_exporter": "python",
   "pygments_lexer": "ipython3",
   "version": "3.9.13"
  }
 },
 "nbformat": 4,
 "nbformat_minor": 5
}
